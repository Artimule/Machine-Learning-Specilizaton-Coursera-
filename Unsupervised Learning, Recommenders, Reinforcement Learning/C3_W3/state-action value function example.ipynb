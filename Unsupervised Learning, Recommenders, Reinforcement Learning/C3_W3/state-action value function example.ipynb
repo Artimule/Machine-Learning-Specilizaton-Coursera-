{
 "cells": [
  {
   "cell_type": "code",
   "execution_count": 1,
   "id": "4063e42e",
   "metadata": {},
   "outputs": [],
   "source": [
    "import numpy as np\n",
    "from utils import *"
   ]
  },
  {
   "cell_type": "code",
   "execution_count": 2,
   "id": "42de41f2",
   "metadata": {},
   "outputs": [],
   "source": [
    "num_states=6\n",
    "num_actions=2"
   ]
  },
  {
   "cell_type": "code",
   "execution_count": 3,
   "id": "75bd3716",
   "metadata": {},
   "outputs": [],
   "source": [
    "terminal_left_reward=100\n",
    "terminal_right_reward=40\n",
    "each_step_reward=0\n",
    "\n",
    "gamma=0.5\n",
    "misstep_prob=0"
   ]
  },
  {
   "cell_type": "code",
   "execution_count": 5,
   "id": "bf5c365c",
   "metadata": {},
   "outputs": [
    {
     "ename": "NameError",
     "evalue": "name 'generate_visualization' is not defined",
     "output_type": "error",
     "traceback": [
      "\u001b[1;31m---------------------------------------------------------------------------\u001b[0m",
      "\u001b[1;31mNameError\u001b[0m                                 Traceback (most recent call last)",
      "\u001b[1;32m~\\AppData\\Local\\Temp\\ipykernel_16376\\3255506504.py\u001b[0m in \u001b[0;36m<module>\u001b[1;34m\u001b[0m\n\u001b[1;32m----> 1\u001b[1;33m \u001b[0mgenerate_visualization\u001b[0m\u001b[1;33m(\u001b[0m\u001b[0mterminal_left_reward\u001b[0m\u001b[1;33m,\u001b[0m\u001b[0mterminal_right_reward\u001b[0m\u001b[1;33m,\u001b[0m\u001b[0meach_step_reward\u001b[0m\u001b[1;33m,\u001b[0m\u001b[0mgamma\u001b[0m\u001b[1;33m,\u001b[0m\u001b[0mmisstep_prob\u001b[0m\u001b[1;33m)\u001b[0m\u001b[1;33m\u001b[0m\u001b[1;33m\u001b[0m\u001b[0m\n\u001b[0m",
      "\u001b[1;31mNameError\u001b[0m: name 'generate_visualization' is not defined"
     ]
    }
   ],
   "source": [
    "generate_visualization(terminal_left_reward,terminal_right_reward,each_step_reward,gamma,misstep_prob)"
   ]
  },
  {
   "cell_type": "code",
   "execution_count": null,
   "id": "cf4af648",
   "metadata": {},
   "outputs": [],
   "source": []
  }
 ],
 "metadata": {
  "kernelspec": {
   "display_name": "Python 3 (ipykernel)",
   "language": "python",
   "name": "python3"
  },
  "language_info": {
   "codemirror_mode": {
    "name": "ipython",
    "version": 3
   },
   "file_extension": ".py",
   "mimetype": "text/x-python",
   "name": "python",
   "nbconvert_exporter": "python",
   "pygments_lexer": "ipython3",
   "version": "3.7.6"
  }
 },
 "nbformat": 4,
 "nbformat_minor": 5
}
